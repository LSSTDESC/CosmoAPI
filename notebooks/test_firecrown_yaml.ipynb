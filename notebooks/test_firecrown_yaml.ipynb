{
 "cells": [
  {
   "cell_type": "markdown",
   "metadata": {},
   "source": [
    "# Firecrown YAML Interface\n",
    "\n",
    "Following the tutorials from the firecrown team [here](https://firecrown.readthedocs.io/en/latest/_static/inferred_zdist.html), \n",
    "this notebook tests the creation of firecrown data-vectors and likelihoods using the YAML interface."
   ]
  },
  {
   "cell_type": "code",
   "execution_count": 1,
   "metadata": {},
   "outputs": [],
   "source": [
    "%matplotlib inline\n",
    "%load_ext autoreload\n",
    "%autoreload 2\n",
    "\n",
    "from firecrown.metadata_types import Galaxies, InferredGalaxyZDist\n",
    "from firecrown.generators.inferred_galaxy_zdist import ZDistLSSTSRDBin, LinearGrid1D\n",
    "from firecrown.utils import base_model_to_yaml, base_model_from_yaml\n",
    "\n",
    "import numpy as np\n",
    "import matplotlib.pyplot as plt\n",
    "import importlib"
   ]
  },
  {
   "cell_type": "markdown",
   "metadata": {},
   "source": [
    "## Creating a inferred galaxy redshift distribution data-vector\n",
    "\n",
    "First let's create these objects and then convert them to YAML files"
   ]
  },
  {
   "cell_type": "code",
   "execution_count": 2,
   "metadata": {},
   "outputs": [
    {
     "name": "stdout",
     "output_type": "stream",
     "text": [
      "zpl: 0.1\n",
      "zpu: 0.2\n",
      "sigma_z: 0.03\n",
      "z:\n",
      "  start: 0.01\n",
      "  end: 0.5\n",
      "  num: 50\n",
      "bin_name: bin0\n",
      "measurements:\n",
      "- subject: Galaxies\n",
      "  property: COUNTS\n",
      "use_autoknot: false\n",
      "autoknots_reltol: 0.0001\n",
      "autoknots_abstol: 1.0e-15\n",
      "\n"
     ]
    }
   ],
   "source": [
    "z = LinearGrid1D(start=0.01, end=0.5, num=50)\n",
    "bin0 = ZDistLSSTSRDBin(\n",
    "    zpl=0.1,\n",
    "    zpu=0.2,\n",
    "    sigma_z=0.03,\n",
    "    z=z,\n",
    "    bin_name=\"bin0\",\n",
    "    measurements={Galaxies.COUNTS},\n",
    ")\n",
    "\n",
    "bin0_yaml = base_model_to_yaml(bin0)\n",
    "print(bin0_yaml)"
   ]
  },
  {
   "cell_type": "markdown",
   "metadata": {},
   "source": [
    "Or maybe we need to create a collection for it to work?"
   ]
  },
  {
   "cell_type": "code",
   "execution_count": 3,
   "metadata": {},
   "outputs": [],
   "source": [
    "from firecrown.generators.inferred_galaxy_zdist import ZDistLSSTSRDBinCollection"
   ]
  },
  {
   "cell_type": "code",
   "execution_count": 4,
   "metadata": {},
   "outputs": [],
   "source": [
    "bin_collect = ZDistLSSTSRDBinCollection(\n",
    "    alpha=0.1,\n",
    "    beta=0.2,\n",
    "    z0=0.3,\n",
    "    bins=[bin0],\n",
    "    )"
   ]
  },
  {
   "cell_type": "code",
   "execution_count": 5,
   "metadata": {},
   "outputs": [],
   "source": [
    "zdist = bin_collect.generate()"
   ]
  },
  {
   "cell_type": "code",
   "execution_count": 6,
   "metadata": {},
   "outputs": [
    {
     "data": {
      "text/plain": [
       "[<matplotlib.lines.Line2D at 0x15fdd22d0>]"
      ]
     },
     "execution_count": 6,
     "metadata": {},
     "output_type": "execute_result"
    },
    {
     "data": {
      "image/png": "[encoded data removed]",
      "text/plain": [
       "<Figure size 640x480 with 1 Axes>"
      ]
     },
     "metadata": {},
     "output_type": "display_data"
    }
   ],
   "source": [
    "plt.plot(zdist[0].z, zdist[0].dndz)"
   ]
  },
  {
   "cell_type": "code",
   "execution_count": 7,
   "metadata": {},
   "outputs": [],
   "source": [
    "import sys\n",
    "from pathlib import Path\n",
    "\n",
    "# Add the CosmoAPI directory to the Python path\n",
    "sys.path.append(\"../CosmoAPI\")\n",
    "\n",
    "# Import the load_nz function\n",
    "from two_point_functions.nz_loader import load_nz\n",
    "\n",
    "# Example usage\n",
    "yaml_data = {\n",
    "    \"nz_type\": \"LSST_Y10_SOURCE_BIN_COLLECTION\"\n",
    "}\n",
    "result = load_nz(yaml_data)\n",
    "\n",
    "#print(result)"
   ]
  },
  {
   "cell_type": "markdown",
   "metadata": {},
   "source": [
    "# 2pt functions playground\n",
    "\n",
    "## Generating the metadata"
   ]
  },
  {
   "cell_type": "code",
   "execution_count": 8,
   "metadata": {},
   "outputs": [],
   "source": [
    "from firecrown.generators.inferred_galaxy_zdist import (\n",
    "    LSST_Y1_LENS_BIN_COLLECTION,\n",
    "    LSST_Y1_SOURCE_BIN_COLLECTION,\n",
    ")\n",
    "\n",
    "count_bins = LSST_Y1_LENS_BIN_COLLECTION.generate()\n",
    "shear_bins = LSST_Y1_SOURCE_BIN_COLLECTION.generate()\n",
    "all_y1_bins = count_bins + shear_bins"
   ]
  },
  {
   "cell_type": "code",
   "execution_count": 9,
   "metadata": {},
   "outputs": [],
   "source": [
    "import numpy as np\n",
    "from firecrown.metadata_functions import make_all_photoz_bin_combinations, TwoPointHarmonic, TwoPointReal\n",
    "\n",
    "all_two_point_xy = make_all_photoz_bin_combinations(all_y1_bins)\n",
    "ells = np.unique(np.geomspace(2, 2000, 128).astype(int))\n",
    "all_two_point_cells = [TwoPointHarmonic(XY=xy, ells=ells) for xy in all_two_point_xy]"
   ]
  },
  {
   "cell_type": "markdown",
   "metadata": {},
   "source": [
    "## Defining the 2pt factories"
   ]
  },
  {
   "cell_type": "code",
   "execution_count": 10,
   "metadata": {},
   "outputs": [],
   "source": [
    "import firecrown.likelihood.weak_lensing as wl\n",
    "import firecrown.likelihood.number_counts as nc\n",
    "import firecrown.likelihood.two_point as tp\n",
    "\n",
    "# WeakLensing systematics -- global\n",
    "ia_systematic = wl.LinearAlignmentSystematicFactory()\n",
    "# WeakLensing systematics -- per-bin\n",
    "wl_photoz = wl.PhotoZShiftFactory()\n",
    "wl_mult_bias = wl.MultiplicativeShearBiasFactory()\n",
    "\n",
    "# NumberCounts systematics -- global\n",
    "# As for Firecrown 1.8.0a0, we do not have any global systematics for number counts\n",
    "# NumberCounts systematics -- per-bin\n",
    "nc_photoz = nc.PhotoZShiftFactory()\n",
    "\n",
    "wlf = wl.WeakLensingFactory(\n",
    "    per_bin_systematics=[wl_mult_bias, wl_photoz],\n",
    "    global_systematics=[ia_systematic],\n",
    ")\n",
    "ncf = nc.NumberCountsFactory(\n",
    "    per_bin_systematics=[nc_photoz],\n",
    "    global_systematics=[],\n",
    ")"
   ]
  },
  {
   "cell_type": "code",
   "execution_count": 11,
   "metadata": {},
   "outputs": [],
   "source": [
    "all_two_point_functions = tp.TwoPoint.from_metadata(\n",
    "    metadata_seq=all_two_point_cells,\n",
    "    wl_factory=wlf,\n",
    "    nc_factory=ncf,\n",
    ")"
   ]
  },
  {
   "cell_type": "code",
   "execution_count": 12,
   "metadata": {},
   "outputs": [
    {
     "name": "stdout",
     "output_type": "stream",
     "text": [
      "<class 'str'>\n"
     ]
    }
   ],
   "source": [
    "test_wlf = base_model_to_yaml(wlf)\n",
    "print(type(test_wlf))"
   ]
  },
  {
   "cell_type": "markdown",
   "metadata": {},
   "source": [
    "## loading factories from yaml"
   ]
  },
  {
   "cell_type": "code",
   "execution_count": 13,
   "metadata": {},
   "outputs": [],
   "source": [
    "import yaml\n",
    "def load_yaml_file(file_path):\n",
    "    \"\"\"Helper function to load a YAML file\"\"\"\n",
    "    with open(file_path, 'r') as file:\n",
    "        return yaml.safe_load(file)"
   ]
  },
  {
   "cell_type": "code",
   "execution_count": 14,
   "metadata": {},
   "outputs": [],
   "source": [
    "config = load_yaml_file(\"../test.yaml\")\n",
    "probes = config.get(\"probes\", [])"
   ]
  },
  {
   "cell_type": "code",
   "execution_count": 15,
   "metadata": {},
   "outputs": [
    {
     "name": "stdout",
     "output_type": "stream",
     "text": [
      "LSST_Y1_SOURCE_BIN_COLLECTION\n",
      "LSST_Y1_LENS_BIN_COLLECTION\n"
     ]
    }
   ],
   "source": [
    "nzs = []\n",
    "for probe, propr in config['probes'].items():\n",
    "    if 'nz_type' in propr:\n",
    "        print(propr['nz_type'])\n",
    "        nzs += load_nz(propr)"
   ]
  },
  {
   "cell_type": "code",
   "execution_count": 16,
   "metadata": {},
   "outputs": [],
   "source": [
    "def load_systematics_factory(probe_systematics):\n",
    "    \"\"\"\n",
    "    Dynamically load a class based on the systematics 'type' specified in the YAML file.\n",
    "\n",
    "    Args:\n",
    "        systematics_type (str): The 'type' field from the YAML specifying which factory to use.\n",
    "\n",
    "    Returns:\n",
    "        The loaded class from the firecrown library.\n",
    "    \"\"\"\n",
    "    # Define base module path based on firecrown's library structure\n",
    "    base_module = \"firecrown.likelihood\"\n",
    "    \n",
    "    # Mapping of known factories to their submodules\n",
    "    type_to_submodule = {\n",
    "        'WeakLensingFactory': 'weak_lensing',\n",
    "        'NumberCountsFactory': 'number_counts',\n",
    "        # Add other mappings as needed, or consider an automatic lookup if patterns are consistent\n",
    "    }\n",
    "\n",
    "    systematics_type = probe_systematics['type']\n",
    "    # Get the submodule for the type\n",
    "    submodule = type_to_submodule.get(systematics_type)\n",
    "    \n",
    "    if submodule is None:\n",
    "        raise ImportError(f\"Unknown systematics type: {systematics_type}\")\n",
    "    \n",
    "    # Construct the full module path\n",
    "    module_path = f\"{base_module}.{submodule}\"\n",
    "    \n",
    "    try:\n",
    "        # Dynamically import the module\n",
    "        module = importlib.import_module(module_path)\n",
    "        # Get the class from the module\n",
    "        factory_class = getattr(module, systematics_type)\n",
    "        # copy the systematics dictionary\n",
    "        systematics_yaml = probe_systematics.copy()\n",
    "        # remove the type key\n",
    "        del systematics_yaml['type']\n",
    "        # instantiate the factory\n",
    "        factory = base_model_from_yaml(factory_class, yaml.dump(systematics_yaml))\n",
    "        return factory\n",
    "    except ImportError as e:\n",
    "        raise ImportError(f\"Could not import module {module_path}: {e}\")\n",
    "    except AttributeError as e:\n",
    "        raise AttributeError(f\"Class '{systematics_type}' not found in module {module_path}: {e}\")"
   ]
  },
  {
   "cell_type": "code",
   "execution_count": 17,
   "metadata": {},
   "outputs": [],
   "source": [
    "def load_function_class(function_name):\n",
    "    \"\"\"\n",
    "    Dynamically load a class based on the 'function' name specified in the YAML file.\n",
    "\n",
    "    Args:\n",
    "        function_name (str): The name of the function specified in the YAML.\n",
    "\n",
    "    Returns:\n",
    "        The loaded class based on the function name.\n",
    "    \"\"\"\n",
    "    # Assume functions are part of a module like 'firecrown.functions'\n",
    "    base_module = \"firecrown.metadata_functions\"\n",
    "    \n",
    "    try:\n",
    "        # Dynamically import the module\n",
    "        module = importlib.import_module(base_module)\n",
    "        # Get the function class from the module\n",
    "        function_class = getattr(module, function_name)\n",
    "        return function_class\n",
    "    except ImportError as e:\n",
    "        raise ImportError(f\"Could not import module {base_module}: {e}\")\n",
    "    except AttributeError as e:\n",
    "        raise AttributeError(f\"Class '{function_name}' not found in module {base_module}: {e}\")\n",
    "\n",
    "def process_probes(yaml_data):\n",
    "    \"\"\"\n",
    "    Process the probes from the YAML data, check if 'function' is the same across probes with 'nz_type',\n",
    "    and dynamically load the corresponding function classes.\n",
    "\n",
    "    Args:\n",
    "        yaml_data (dict): Parsed YAML data in dictionary format.\n",
    "\n",
    "    Returns:\n",
    "        A dictionary containing the dynamically loaded function classes for each probe.\n",
    "    \"\"\"\n",
    "    probes_data = yaml_data.get('probes', {})\n",
    "    \n",
    "    # Variables to track the function consistency\n",
    "    nz_type_probes = []\n",
    "    function_name = None\n",
    "    \n",
    "    function_classes = {}\n",
    "    \n",
    "    # Iterate over each probe in the YAML data\n",
    "    for probe_name, probe_data in probes_data.items():\n",
    "        nz_type = probe_data.get('nz_type')\n",
    "        probe_function = probe_data.get('function')\n",
    "        \n",
    "        # If the probe has 'nz_type', we need to check the function\n",
    "        if nz_type:\n",
    "            nz_type_probes.append(probe_name)\n",
    "            \n",
    "            # If it's the first nz_type probe, set the expected function name\n",
    "            if function_name is None:\n",
    "                function_name = probe_function\n",
    "            else:\n",
    "                # If another nz_type probe has a different function, raise an error\n",
    "                if probe_function != function_name:\n",
    "                    raise ValueError(f\"Probes '{nz_type_probes[0]}' and '{probe_name}' have different 'function' values: '{function_name}' != '{probe_function}'\")\n",
    "            \n",
    "            # Dynamically load the function class\n",
    "            if probe_function:\n",
    "                try:\n",
    "                    loaded_function = load_function_class(probe_function)\n",
    "                    function_classes[probe_name] = loaded_function\n",
    "                except (ImportError, AttributeError) as e:\n",
    "                    raise ImportError(f\"Error loading function for probe '{probe_name}': {e}\")\n",
    "    \n",
    "    # If nz_type_probes is non-empty, it confirms nz_type presence and function consistency\n",
    "    if nz_type_probes:\n",
    "        print(f\"All nz_type probes have the same function: {function_name}\")\n",
    "\n",
    "    return loaded_function\n"
   ]
  },
  {
   "cell_type": "code",
   "execution_count": 18,
   "metadata": {},
   "outputs": [
    {
     "name": "stdout",
     "output_type": "stream",
     "text": [
      "All nz_type probes have the same function: TwoPointHarmonic\n"
     ]
    }
   ],
   "source": [
    "two_pt_function = process_probes(config)"
   ]
  },
  {
   "cell_type": "code",
   "execution_count": 19,
   "metadata": {},
   "outputs": [],
   "source": [
    "for p in probes:\n",
    "    probes[p]['loaded_systematics'] = load_systematics_factory(probes[p]['systematics'])\n",
    "    "
   ]
  },
  {
   "cell_type": "code",
   "execution_count": 40,
   "metadata": {},
   "outputs": [],
   "source": [
    "#FIXME: We have to implement this in the yaml\n",
    "#ells = np.unique(np.geomspace(2, 2000, 128).astype(int))\n",
    "\n",
    "# trying from the firecrown example:\n",
    "from firecrown.generators.two_point import LogLinearElls\n",
    "\n",
    "ells_generator = LogLinearElls(minimum=2, midpoint=199, maximum=200, n_log=20)\n"
   ]
  },
  {
   "cell_type": "code",
   "execution_count": 41,
   "metadata": {},
   "outputs": [
    {
     "name": "stdout",
     "output_type": "stream",
     "text": [
      "[  2   3   4   5   6   7   8   9  10  11  12  13  14  15  16  17  18  19\n",
      "  20  21  22  23  24  25  26  27  28  29  30  31  32  33  34  35  36  37\n",
      "  38  39  40  41  42  43  44  45  46  47  48  49  50  51  52  53  54  55\n",
      "  56  57  58  59  60  61  62  63  64  65  66  67  68  69  70  71  72  73\n",
      "  74  75  76  77  78  79  80  81  82  83  84  85  86  87  88  89  90  91\n",
      "  92  93  94  95  96  97  98  99 100 101 102 103 104 105 106 107 108 109\n",
      " 110 111 112 113 114 115 116 117 118 119 120 121 122 123 124 125 126 127\n",
      " 128 129 130 131 132 133 134 135 136 137 138 139 140 141 142 143 144 145\n",
      " 146 147 148 149 150 151 152 153 154 155 156 157 158 159 160 161 162 163\n",
      " 164 165 166 167 168 169 170 171 172 173 174 175 176 177 178 179 180 181\n",
      " 182 183 184 185 186 187 188 189 190 191 192 193 194 195 196 197 198 199\n",
      " 200]\n",
      "minimum: 2\n",
      "midpoint: 199\n",
      "maximum: 200\n",
      "n_log: 20\n",
      "\n"
     ]
    },
    {
     "data": {
      "text/plain": [
       "[<matplotlib.lines.Line2D at 0x1689b4a40>]"
      ]
     },
     "execution_count": 41,
     "metadata": {},
     "output_type": "execute_result"
    },
    {
     "data": {
      "image/png": "[encoded data removed]",
      "text/plain": [
       "<Figure size 640x480 with 1 Axes>"
      ]
     },
     "metadata": {},
     "output_type": "display_data"
    }
   ],
   "source": [
    "ells_yamls = base_model_to_yaml(ells_generator)\n",
    "ells = ells_generator.generate()\n",
    "print(ells)\n",
    "print(ells_yamls)\n",
    "\n",
    "plt.plot(ells)"
   ]
  },
  {
   "cell_type": "code",
   "execution_count": 21,
   "metadata": {},
   "outputs": [],
   "source": [
    "all_two_point_bins = make_all_photoz_bin_combinations(nzs)"
   ]
  },
  {
   "cell_type": "code",
   "execution_count": 22,
   "metadata": {},
   "outputs": [],
   "source": [
    "all_two_point_metdata = [two_pt_function(XY=ij, ells=ells) for ij in all_two_point_bins]"
   ]
  },
  {
   "cell_type": "code",
   "execution_count": 23,
   "metadata": {},
   "outputs": [
    {
     "data": {
      "text/markdown": [
       "|    | bin-x             | bin-y             | SACC data-type           |\n",
       "|---:|:------------------|:------------------|:-------------------------|\n",
       "|  0 | source_0.2_0.4_y1 | source_0.2_0.4_y1 | galaxy_shear_cl_ee       |\n",
       "|  1 | source_0.2_0.4_y1 | source_0.4_0.6_y1 | galaxy_shear_cl_ee       |\n",
       "|  2 | source_0.2_0.4_y1 | source_0.6_0.8_y1 | galaxy_shear_cl_ee       |\n",
       "|  3 | source_0.2_0.4_y1 | source_0.8_1.0_y1 | galaxy_shear_cl_ee       |\n",
       "|  4 | source_0.2_0.4_y1 | source_1.0_1.2_y1 | galaxy_shear_cl_ee       |\n",
       "|  5 | source_0.2_0.4_y1 | lens_0.2_0.4_y1   | galaxy_shearDensity_cl_e |\n",
       "|  6 | source_0.2_0.4_y1 | lens_0.4_0.6_y1   | galaxy_shearDensity_cl_e |\n",
       "|  7 | source_0.2_0.4_y1 | lens_0.6_0.8_y1   | galaxy_shearDensity_cl_e |\n",
       "|  8 | source_0.2_0.4_y1 | lens_0.8_1.0_y1   | galaxy_shearDensity_cl_e |\n",
       "|  9 | source_0.2_0.4_y1 | lens_1.0_1.2_y1   | galaxy_shearDensity_cl_e |\n",
       "| 10 | source_0.4_0.6_y1 | source_0.4_0.6_y1 | galaxy_shear_cl_ee       |\n",
       "| 11 | source_0.4_0.6_y1 | source_0.6_0.8_y1 | galaxy_shear_cl_ee       |\n",
       "| 12 | source_0.4_0.6_y1 | source_0.8_1.0_y1 | galaxy_shear_cl_ee       |\n",
       "| 13 | source_0.4_0.6_y1 | source_1.0_1.2_y1 | galaxy_shear_cl_ee       |\n",
       "| 14 | source_0.4_0.6_y1 | lens_0.2_0.4_y1   | galaxy_shearDensity_cl_e |\n",
       "| 15 | source_0.4_0.6_y1 | lens_0.4_0.6_y1   | galaxy_shearDensity_cl_e |\n",
       "| 16 | source_0.4_0.6_y1 | lens_0.6_0.8_y1   | galaxy_shearDensity_cl_e |\n",
       "| 17 | source_0.4_0.6_y1 | lens_0.8_1.0_y1   | galaxy_shearDensity_cl_e |\n",
       "| 18 | source_0.4_0.6_y1 | lens_1.0_1.2_y1   | galaxy_shearDensity_cl_e |\n",
       "| 19 | source_0.6_0.8_y1 | source_0.6_0.8_y1 | galaxy_shear_cl_ee       |\n",
       "| 20 | source_0.6_0.8_y1 | source_0.8_1.0_y1 | galaxy_shear_cl_ee       |\n",
       "| 21 | source_0.6_0.8_y1 | source_1.0_1.2_y1 | galaxy_shear_cl_ee       |\n",
       "| 22 | source_0.6_0.8_y1 | lens_0.2_0.4_y1   | galaxy_shearDensity_cl_e |\n",
       "| 23 | source_0.6_0.8_y1 | lens_0.4_0.6_y1   | galaxy_shearDensity_cl_e |\n",
       "| 24 | source_0.6_0.8_y1 | lens_0.6_0.8_y1   | galaxy_shearDensity_cl_e |\n",
       "| 25 | source_0.6_0.8_y1 | lens_0.8_1.0_y1   | galaxy_shearDensity_cl_e |\n",
       "| 26 | source_0.6_0.8_y1 | lens_1.0_1.2_y1   | galaxy_shearDensity_cl_e |\n",
       "| 27 | source_0.8_1.0_y1 | source_0.8_1.0_y1 | galaxy_shear_cl_ee       |\n",
       "| 28 | source_0.8_1.0_y1 | source_1.0_1.2_y1 | galaxy_shear_cl_ee       |\n",
       "| 29 | source_0.8_1.0_y1 | lens_0.2_0.4_y1   | galaxy_shearDensity_cl_e |\n",
       "| 30 | source_0.8_1.0_y1 | lens_0.4_0.6_y1   | galaxy_shearDensity_cl_e |\n",
       "| 31 | source_0.8_1.0_y1 | lens_0.6_0.8_y1   | galaxy_shearDensity_cl_e |\n",
       "| 32 | source_0.8_1.0_y1 | lens_0.8_1.0_y1   | galaxy_shearDensity_cl_e |\n",
       "| 33 | source_0.8_1.0_y1 | lens_1.0_1.2_y1   | galaxy_shearDensity_cl_e |\n",
       "| 34 | source_1.0_1.2_y1 | source_1.0_1.2_y1 | galaxy_shear_cl_ee       |\n",
       "| 35 | source_1.0_1.2_y1 | lens_0.2_0.4_y1   | galaxy_shearDensity_cl_e |\n",
       "| 36 | source_1.0_1.2_y1 | lens_0.4_0.6_y1   | galaxy_shearDensity_cl_e |\n",
       "| 37 | source_1.0_1.2_y1 | lens_0.6_0.8_y1   | galaxy_shearDensity_cl_e |\n",
       "| 38 | source_1.0_1.2_y1 | lens_0.8_1.0_y1   | galaxy_shearDensity_cl_e |\n",
       "| 39 | source_1.0_1.2_y1 | lens_1.0_1.2_y1   | galaxy_shearDensity_cl_e |\n",
       "| 40 | lens_0.2_0.4_y1   | lens_0.2_0.4_y1   | galaxy_density_cl        |\n",
       "| 41 | lens_0.2_0.4_y1   | lens_0.4_0.6_y1   | galaxy_density_cl        |\n",
       "| 42 | lens_0.2_0.4_y1   | lens_0.6_0.8_y1   | galaxy_density_cl        |\n",
       "| 43 | lens_0.2_0.4_y1   | lens_0.8_1.0_y1   | galaxy_density_cl        |\n",
       "| 44 | lens_0.2_0.4_y1   | lens_1.0_1.2_y1   | galaxy_density_cl        |\n",
       "| 45 | lens_0.4_0.6_y1   | lens_0.4_0.6_y1   | galaxy_density_cl        |\n",
       "| 46 | lens_0.4_0.6_y1   | lens_0.6_0.8_y1   | galaxy_density_cl        |\n",
       "| 47 | lens_0.4_0.6_y1   | lens_0.8_1.0_y1   | galaxy_density_cl        |\n",
       "| 48 | lens_0.4_0.6_y1   | lens_1.0_1.2_y1   | galaxy_density_cl        |\n",
       "| 49 | lens_0.6_0.8_y1   | lens_0.6_0.8_y1   | galaxy_density_cl        |\n",
       "| 50 | lens_0.6_0.8_y1   | lens_0.8_1.0_y1   | galaxy_density_cl        |\n",
       "| 51 | lens_0.6_0.8_y1   | lens_1.0_1.2_y1   | galaxy_density_cl        |\n",
       "| 52 | lens_0.8_1.0_y1   | lens_0.8_1.0_y1   | galaxy_density_cl        |\n",
       "| 53 | lens_0.8_1.0_y1   | lens_1.0_1.2_y1   | galaxy_density_cl        |\n",
       "| 54 | lens_1.0_1.2_y1   | lens_1.0_1.2_y1   | galaxy_density_cl        |"
      ],
      "text/plain": [
       "<IPython.core.display.Markdown object>"
      ]
     },
     "execution_count": 23,
     "metadata": {},
     "output_type": "execute_result"
    }
   ],
   "source": [
    "import pandas as pd\n",
    "from IPython.display import Markdown\n",
    "\n",
    "two_point_names = [\n",
    "    (Cells.XY.x.bin_name, Cells.XY.y.bin_name, Cells.get_sacc_name())\n",
    "    for Cells in all_two_point_metdata\n",
    "]\n",
    "df = pd.DataFrame(two_point_names, columns=[\"bin-x\", \"bin-y\", \"SACC data-type\"])\n",
    "Markdown(df.to_markdown())"
   ]
  },
  {
   "cell_type": "code",
   "execution_count": 24,
   "metadata": {},
   "outputs": [],
   "source": [
    "import firecrown.likelihood.two_point as tp\n",
    "all_two_point_functions = tp.TwoPoint.from_metadata(\n",
    "    metadata_seq=all_two_point_metdata,\n",
    "    wl_factory=probes['source']['loaded_systematics'],\n",
    "    nc_factory=probes['lens']['loaded_systematics'],\n",
    ")"
   ]
  },
  {
   "cell_type": "code",
   "execution_count": 25,
   "metadata": {},
   "outputs": [],
   "source": [
    "from firecrown.parameters import ParamsMap\n",
    "\n",
    "req_params = all_two_point_functions.required_parameters()\n",
    "default_values = req_params.get_default_values()\n",
    "params = ParamsMap(default_values)"
   ]
  },
  {
   "cell_type": "code",
   "execution_count": 26,
   "metadata": {},
   "outputs": [
    {
     "data": {
      "text/plain": [
       "{'source_1.0_1.2_y1_mult_bias': 1.0,\n",
       " 'lens_0.2_0.4_y1_bias': 1.5,\n",
       " 'lens_0.4_0.6_y1_delta_z': 0.0,\n",
       " 'source_1.0_1.2_y1_delta_z': 0.0,\n",
       " 'source_0.4_0.6_y1_delta_z': 0.0,\n",
       " 'lens_0.8_1.0_y1_delta_z': 0.0,\n",
       " 'lens_0.8_1.0_y1_bias': 1.5,\n",
       " 'source_0.4_0.6_y1_mult_bias': 1.0,\n",
       " 'source_0.8_1.0_y1_delta_z': 0.0,\n",
       " 'ia_bias': 0.5,\n",
       " 'alphaz': 0.0,\n",
       " 'lens_1.0_1.2_y1_bias': 1.5,\n",
       " 'lens_0.6_0.8_y1_bias': 1.5,\n",
       " 'source_0.8_1.0_y1_mult_bias': 1.0,\n",
       " 'source_0.6_0.8_y1_mult_bias': 1.0,\n",
       " 'source_0.2_0.4_y1_mult_bias': 1.0,\n",
       " 'lens_0.2_0.4_y1_delta_z': 0.0,\n",
       " 'source_0.2_0.4_y1_delta_z': 0.0,\n",
       " 'lens_0.4_0.6_y1_bias': 1.5,\n",
       " 'z_piv': 0.5,\n",
       " 'lens_0.6_0.8_y1_delta_z': 0.0,\n",
       " 'lens_1.0_1.2_y1_delta_z': 0.0,\n",
       " 'source_0.6_0.8_y1_delta_z': 0.0}"
      ]
     },
     "execution_count": 26,
     "metadata": {},
     "output_type": "execute_result"
    }
   ],
   "source": [
    "default_values"
   ]
  },
  {
   "cell_type": "markdown",
   "metadata": {},
   "source": [
    "## Trying to create a likelihood from this"
   ]
  },
  {
   "cell_type": "code",
   "execution_count": 27,
   "metadata": {},
   "outputs": [
    {
     "ename": "SyntaxError",
     "evalue": "invalid syntax (959062734.py, line 17)",
     "output_type": "error",
     "traceback": [
      "\u001b[0;36m  Cell \u001b[0;32mIn[27], line 17\u001b[0;36m\u001b[0m\n\u001b[0;31m    likelihood.\u001b[0m\n\u001b[0m               ^\u001b[0m\n\u001b[0;31mSyntaxError\u001b[0m\u001b[0;31m:\u001b[0m invalid syntax\n"
     ]
    }
   ],
   "source": [
    "from firecrown.likelihood.gaussian import ConstGaussian\n",
    "\n",
    "import pyccl\n",
    "\n",
    "from firecrown.modeling_tools import ModelingTools\n",
    "\n",
    "ccl_cosmo = pyccl.CosmologyVanillaLCDM()\n",
    "ccl_cosmo.compute_nonlin_power()\n",
    "\n",
    "tools = ModelingTools()\n",
    "tools.update(params)\n",
    "tools.prepare(ccl_cosmo)\n",
    "\n",
    "likelihood = ConstGaussian(all_two_point_functions)\n",
    "likelihood.read(None)\n",
    "likelihood.update(params)\n",
    "likelihood.\n",
    "#likelihood.read(sacc_data)"
   ]
  },
  {
   "cell_type": "code",
   "execution_count": 293,
   "metadata": {},
   "outputs": [
    {
     "name": "stdout",
     "output_type": "stream",
     "text": [
      "\u001b[0;31mSignature:\u001b[0m \u001b[0mlikelihood\u001b[0m\u001b[0;34m.\u001b[0m\u001b[0mcompute_theory_vector\u001b[0m\u001b[0;34m(\u001b[0m\u001b[0mtools\u001b[0m\u001b[0;34m:\u001b[0m \u001b[0;34m'ModelingTools'\u001b[0m\u001b[0;34m)\u001b[0m \u001b[0;34m->\u001b[0m \u001b[0;34m'npt.NDArray[np.float64]'\u001b[0m\u001b[0;34m\u001b[0m\u001b[0;34m\u001b[0m\u001b[0m\n",
      "\u001b[0;31mDocstring:\u001b[0m\n",
      "Computes the theory vector using the current instance of pyccl.Cosmology.\n",
      "\n",
      ":param tools: Current ModelingTools object\n",
      ":return: The computed theory vector\n",
      "\u001b[0;31mFile:\u001b[0m      ~/Work/Github/firecrown/firecrown/likelihood/gaussfamily.py\n",
      "\u001b[0;31mType:\u001b[0m      method"
     ]
    }
   ],
   "source": [
    "likelihood.compute_theory_vector"
   ]
  },
  {
   "cell_type": "code",
   "execution_count": null,
   "metadata": {},
   "outputs": [],
   "source": []
  }
 ],
 "metadata": {
  "kernelspec": {
   "display_name": "desc_forecast",
   "language": "python",
   "name": "python3"
  },
  "language_info": {
   "codemirror_mode": {
    "name": "ipython",
    "version": 3
   },
   "file_extension": ".py",
   "mimetype": "text/x-python",
   "name": "python",
   "nbconvert_exporter": "python",
   "pygments_lexer": "ipython3",
   "version": "3.12.4"
  }
 },
 "nbformat": 4,
 "nbformat_minor": 2
}
