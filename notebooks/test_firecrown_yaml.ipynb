{
 "cells": [
  {
   "cell_type": "markdown",
   "metadata": {},
   "source": [
    "# Firecrown YAML Interface\n",
    "\n",
    "Following the tutorials from the firecrown team [here](https://firecrown.readthedocs.io/en/latest/_static/inferred_zdist.html), \n",
    "this notebook tests the creation of firecrown data-vectors and likelihoods using the YAML interface."
   ]
  },
  {
   "cell_type": "code",
   "execution_count": 142,
   "metadata": {},
   "outputs": [
    {
     "name": "stdout",
     "output_type": "stream",
     "text": [
      "The autoreload extension is already loaded. To reload it, use:\n",
      "  %reload_ext autoreload\n"
     ]
    }
   ],
   "source": [
    "%matplotlib inline\n",
    "%load_ext autoreload\n",
    "%autoreload 2\n",
    "\n",
    "from firecrown.metadata_types import Galaxies, InferredGalaxyZDist\n",
    "from firecrown.generators.inferred_galaxy_zdist import ZDistLSSTSRDBin, LinearGrid1D\n",
    "from firecrown.utils import base_model_to_yaml, base_model_from_yaml\n",
    "\n",
    "import numpy as np\n",
    "import matplotlib.pyplot as plt\n",
    "import importlib"
   ]
  },
  {
   "cell_type": "markdown",
   "metadata": {},
   "source": [
    "## Creating a inferred galaxy redshift distribution data-vector\n",
    "\n",
    "First let's create these objects and then convert them to YAML files"
   ]
  },
  {
   "cell_type": "code",
   "execution_count": 43,
   "metadata": {},
   "outputs": [
    {
     "name": "stdout",
     "output_type": "stream",
     "text": [
      "zpl: 0.1\n",
      "zpu: 0.2\n",
      "sigma_z: 0.03\n",
      "z:\n",
      "  start: 0.01\n",
      "  end: 0.5\n",
      "  num: 50\n",
      "bin_name: bin0\n",
      "measurements:\n",
      "- subject: Galaxies\n",
      "  property: COUNTS\n",
      "use_autoknot: false\n",
      "autoknots_reltol: 0.0001\n",
      "autoknots_abstol: 1.0e-15\n",
      "\n"
     ]
    }
   ],
   "source": [
    "z = LinearGrid1D(start=0.01, end=0.5, num=50)\n",
    "bin0 = ZDistLSSTSRDBin(\n",
    "    zpl=0.1,\n",
    "    zpu=0.2,\n",
    "    sigma_z=0.03,\n",
    "    z=z,\n",
    "    bin_name=\"bin0\",\n",
    "    measurements={Galaxies.COUNTS},\n",
    ")\n",
    "\n",
    "bin0_yaml = base_model_to_yaml(bin0)\n",
    "print(bin0_yaml)"
   ]
  },
  {
   "cell_type": "markdown",
   "metadata": {},
   "source": [
    "Or maybe we need to create a collection for it to work?"
   ]
  },
  {
   "cell_type": "code",
   "execution_count": 44,
   "metadata": {},
   "outputs": [],
   "source": [
    "from firecrown.generators.inferred_galaxy_zdist import ZDistLSSTSRDBinCollection"
   ]
  },
  {
   "cell_type": "code",
   "execution_count": 45,
   "metadata": {},
   "outputs": [],
   "source": [
    "bin_collect = ZDistLSSTSRDBinCollection(\n",
    "    alpha=0.1,\n",
    "    beta=0.2,\n",
    "    z0=0.3,\n",
    "    bins=[bin0],\n",
    "    )"
   ]
  },
  {
   "cell_type": "code",
   "execution_count": 46,
   "metadata": {},
   "outputs": [],
   "source": [
    "zdist = bin_collect.generate()"
   ]
  },
  {
   "cell_type": "code",
   "execution_count": 47,
   "metadata": {},
   "outputs": [
    {
     "data": {
      "text/plain": [
       "[<matplotlib.lines.Line2D at 0x17575be00>]"
      ]
     },
     "execution_count": 47,
     "metadata": {},
     "output_type": "execute_result"
    },
    {
     "data": {
      "image/png": "[encoded data removed]",
      "text/plain": [
       "<Figure size 640x480 with 1 Axes>"
      ]
     },
     "metadata": {},
     "output_type": "display_data"
    }
   ],
   "source": [
    "plt.plot(zdist[0].z, zdist[0].dndz)"
   ]
  },
  {
   "cell_type": "code",
   "execution_count": 81,
   "metadata": {},
   "outputs": [
    {
     "name": "stdout",
     "output_type": "stream",
     "text": [
      "alpha: 0.9\n",
      "beta: 2.0\n",
      "z0: 0.28\n",
      "bins:\n",
      "- zpl: 0.2\n",
      "  zpu: 0.30000000000000004\n",
      "  sigma_z: 0.03\n",
      "  z:\n",
      "    values:\n",
      "    - 0.0\n",
      "    - 3.0\n",
      "  bin_name: lens_0.2_0.3_y10\n",
      "  measurements:\n",
      "  - subject: Galaxies\n",
      "    property: COUNTS\n",
      "  use_autoknot: true\n",
      "  autoknots_reltol: 1.0e-05\n",
      "  autoknots_abstol: 1.0e-15\n",
      "- zpl: 0.30000000000000004\n",
      "  zpu: 0.4\n",
      "  sigma_z: 0.03\n",
      "  z:\n",
      "    values:\n",
      "    - 0.0\n",
      "    - 3.0\n",
      "  bin_name: lens_0.3_0.4_y10\n",
      "  measurements:\n",
      "  - subject: Galaxies\n",
      "    property: COUNTS\n",
      "  use_autoknot: true\n",
      "  autoknots_reltol: 1.0e-05\n",
      "  autoknots_abstol: 1.0e-15\n",
      "- zpl: 0.4\n",
      "  zpu: 0.5\n",
      "  sigma_z: 0.03\n",
      "  z:\n",
      "    values:\n",
      "    - 0.0\n",
      "    - 3.0\n",
      "  bin_name: lens_0.4_0.5_y10\n",
      "  measurements:\n",
      "  - subject: Galaxies\n",
      "    property: COUNTS\n",
      "  use_autoknot: true\n",
      "  autoknots_reltol: 1.0e-05\n",
      "  autoknots_abstol: 1.0e-15\n",
      "- zpl: 0.5\n",
      "  zpu: 0.6000000000000001\n",
      "  sigma_z: 0.03\n",
      "  z:\n",
      "    values:\n",
      "    - 0.0\n",
      "    - 3.0\n",
      "  bin_name: lens_0.5_0.6_y10\n",
      "  measurements:\n",
      "  - subject: Galaxies\n",
      "    property: COUNTS\n",
      "  use_autoknot: true\n",
      "  autoknots_reltol: 1.0e-05\n",
      "  autoknots_abstol: 1.0e-15\n",
      "- zpl: 0.6000000000000001\n",
      "  zpu: 0.7\n",
      "  sigma_z: 0.03\n",
      "  z:\n",
      "    values:\n",
      "    - 0.0\n",
      "    - 3.0\n",
      "  bin_name: lens_0.6_0.7_y10\n",
      "  measurements:\n",
      "  - subject: Galaxies\n",
      "    property: COUNTS\n",
      "  use_autoknot: true\n",
      "  autoknots_reltol: 1.0e-05\n",
      "  autoknots_abstol: 1.0e-15\n",
      "- zpl: 0.7\n",
      "  zpu: 0.8\n",
      "  sigma_z: 0.03\n",
      "  z:\n",
      "    values:\n",
      "    - 0.0\n",
      "    - 3.0\n",
      "  bin_name: lens_0.7_0.8_y10\n",
      "  measurements:\n",
      "  - subject: Galaxies\n",
      "    property: COUNTS\n",
      "  use_autoknot: true\n",
      "  autoknots_reltol: 1.0e-05\n",
      "  autoknots_abstol: 1.0e-15\n",
      "- zpl: 0.8\n",
      "  zpu: 0.9000000000000001\n",
      "  sigma_z: 0.03\n",
      "  z:\n",
      "    values:\n",
      "    - 0.0\n",
      "    - 3.0\n",
      "  bin_name: lens_0.8_0.9_y10\n",
      "  measurements:\n",
      "  - subject: Galaxies\n",
      "    property: COUNTS\n",
      "  use_autoknot: true\n",
      "  autoknots_reltol: 1.0e-05\n",
      "  autoknots_abstol: 1.0e-15\n",
      "- zpl: 0.9000000000000001\n",
      "  zpu: 1.0\n",
      "  sigma_z: 0.03\n",
      "  z:\n",
      "    values:\n",
      "    - 0.0\n",
      "    - 3.0\n",
      "  bin_name: lens_0.9_1.0_y10\n",
      "  measurements:\n",
      "  - subject: Galaxies\n",
      "    property: COUNTS\n",
      "  use_autoknot: true\n",
      "  autoknots_reltol: 1.0e-05\n",
      "  autoknots_abstol: 1.0e-15\n",
      "- zpl: 1.0\n",
      "  zpu: 1.1\n",
      "  sigma_z: 0.03\n",
      "  z:\n",
      "    values:\n",
      "    - 0.0\n",
      "    - 3.0\n",
      "  bin_name: lens_1.0_1.1_y10\n",
      "  measurements:\n",
      "  - subject: Galaxies\n",
      "    property: COUNTS\n",
      "  use_autoknot: true\n",
      "  autoknots_reltol: 1.0e-05\n",
      "  autoknots_abstol: 1.0e-15\n",
      "- zpl: 1.1\n",
      "  zpu: 1.2\n",
      "  sigma_z: 0.03\n",
      "  z:\n",
      "    values:\n",
      "    - 0.0\n",
      "    - 3.0\n",
      "  bin_name: lens_1.1_1.2_y10\n",
      "  measurements:\n",
      "  - subject: Galaxies\n",
      "    property: COUNTS\n",
      "  use_autoknot: true\n",
      "  autoknots_reltol: 1.0e-05\n",
      "  autoknots_abstol: 1.0e-15\n",
      "\n"
     ]
    }
   ],
   "source": [
    "import sys\n",
    "from pathlib import Path\n",
    "\n",
    "# Add the CosmoAPI directory to the Python path\n",
    "sys.path.append(\"../CosmoAPI\")\n",
    "\n",
    "# Import the load_nz function\n",
    "from two_point_functions.nz_loader import load_nz\n",
    "\n",
    "# Example usage\n",
    "yaml_data = {\n",
    "    \"nz_type\": \"LSST_Y10_LENS_BIN_COLLECTION\"\n",
    "}\n",
    "result = load_nz(yaml_data)\n",
    "\n",
    "print(base_model_to_yaml(result))"
   ]
  },
  {
   "cell_type": "markdown",
   "metadata": {},
   "source": [
    "# 2pt functions playground\n",
    "\n",
    "## Generating the metadata"
   ]
  },
  {
   "cell_type": "code",
   "execution_count": 82,
   "metadata": {},
   "outputs": [],
   "source": [
    "from firecrown.generators.inferred_galaxy_zdist import (\n",
    "    LSST_Y1_LENS_BIN_COLLECTION,\n",
    "    LSST_Y1_SOURCE_BIN_COLLECTION,\n",
    ")\n",
    "\n",
    "count_bins = LSST_Y1_LENS_BIN_COLLECTION.generate()\n",
    "shear_bins = LSST_Y1_SOURCE_BIN_COLLECTION.generate()\n",
    "all_y1_bins = count_bins + shear_bins"
   ]
  },
  {
   "cell_type": "code",
   "execution_count": 83,
   "metadata": {},
   "outputs": [],
   "source": [
    "import numpy as np\n",
    "from firecrown.metadata_functions import make_all_photoz_bin_combinations, TwoPointHarmonic, TwoPointReal\n",
    "\n",
    "all_two_point_xy = make_all_photoz_bin_combinations(all_y1_bins)\n",
    "ells = np.unique(np.geomspace(2, 2000, 128).astype(int))\n",
    "all_two_point_cells = [TwoPointHarmonic(XY=xy, ells=ells) for xy in all_two_point_xy]"
   ]
  },
  {
   "cell_type": "markdown",
   "metadata": {},
   "source": [
    "## Defining the 2pt factories"
   ]
  },
  {
   "cell_type": "code",
   "execution_count": 85,
   "metadata": {},
   "outputs": [],
   "source": [
    "import firecrown.likelihood.weak_lensing as wl\n",
    "import firecrown.likelihood.number_counts as nc\n",
    "import firecrown.likelihood.two_point as tp\n",
    "\n",
    "# WeakLensing systematics -- global\n",
    "ia_systematic = wl.LinearAlignmentSystematicFactory()\n",
    "# WeakLensing systematics -- per-bin\n",
    "wl_photoz = wl.PhotoZShiftFactory()\n",
    "wl_mult_bias = wl.MultiplicativeShearBiasFactory()\n",
    "\n",
    "# NumberCounts systematics -- global\n",
    "# As for Firecrown 1.8.0a0, we do not have any global systematics for number counts\n",
    "# NumberCounts systematics -- per-bin\n",
    "nc_photoz = nc.PhotoZShiftFactory()\n",
    "\n",
    "wlf = wl.WeakLensingFactory(\n",
    "    per_bin_systematics=[wl_mult_bias, wl_photoz],\n",
    "    global_systematics=[ia_systematic],\n",
    ")\n",
    "ncf = nc.NumberCountsFactory(\n",
    "    per_bin_systematics=[nc_photoz],\n",
    "    global_systematics=[],\n",
    ")"
   ]
  },
  {
   "cell_type": "code",
   "execution_count": 86,
   "metadata": {},
   "outputs": [],
   "source": [
    "all_two_point_functions = tp.TwoPoint.from_metadata(\n",
    "    metadata_seq=all_two_point_cells,\n",
    "    wl_factory=wlf,\n",
    "    nc_factory=ncf,\n",
    ")"
   ]
  },
  {
   "cell_type": "code",
   "execution_count": 170,
   "metadata": {},
   "outputs": [
    {
     "name": "stdout",
     "output_type": "stream",
     "text": [
      "<class 'str'>\n"
     ]
    }
   ],
   "source": [
    "test_wlf = base_model_to_yaml(wlf)\n",
    "print(type(test_wlf))"
   ]
  },
  {
   "cell_type": "markdown",
   "metadata": {},
   "source": [
    "## loading factories from yaml"
   ]
  },
  {
   "cell_type": "code",
   "execution_count": 155,
   "metadata": {},
   "outputs": [],
   "source": [
    "import yaml\n",
    "def load_yaml_file(file_path):\n",
    "    \"\"\"Helper function to load a YAML file\"\"\"\n",
    "    with open(file_path, 'r') as file:\n",
    "        return yaml.safe_load(file)"
   ]
  },
  {
   "cell_type": "code",
   "execution_count": 176,
   "metadata": {},
   "outputs": [],
   "source": [
    "config = load_yaml_file(\"../test.yaml\")\n",
    "probes = config.get(\"probes\", [])"
   ]
  },
  {
   "cell_type": "code",
   "execution_count": 177,
   "metadata": {},
   "outputs": [
    {
     "name": "stdout",
     "output_type": "stream",
     "text": [
      "LSST_Y1_SOURCE_BIN_COLLECTION\n",
      "LSST_Y1_LENS_BIN_COLLECTION\n"
     ]
    }
   ],
   "source": [
    "nzs = []\n",
    "for probe, propr in config['probes'].items():\n",
    "    if 'nz_type' in propr:\n",
    "        print(propr['nz_type'])\n",
    "        nzs += load_nz(propr)"
   ]
  },
  {
   "cell_type": "code",
   "execution_count": 171,
   "metadata": {},
   "outputs": [],
   "source": [
    "def load_systematics_factory(probe_systematics):\n",
    "    \"\"\"\n",
    "    Dynamically load a class based on the systematics 'type' specified in the YAML file.\n",
    "\n",
    "    Args:\n",
    "        systematics_type (str): The 'type' field from the YAML specifying which factory to use.\n",
    "\n",
    "    Returns:\n",
    "        The loaded class from the firecrown library.\n",
    "    \"\"\"\n",
    "    # Define base module path based on firecrown's library structure\n",
    "    base_module = \"firecrown.likelihood\"\n",
    "    \n",
    "    # Mapping of known factories to their submodules\n",
    "    type_to_submodule = {\n",
    "        'WeakLensingFactory': 'weak_lensing',\n",
    "        'NumberCountsFactory': 'number_counts',\n",
    "        # Add other mappings as needed, or consider an automatic lookup if patterns are consistent\n",
    "    }\n",
    "\n",
    "    systematics_type = probe_systematics['type']\n",
    "    # Get the submodule for the type\n",
    "    submodule = type_to_submodule.get(systematics_type)\n",
    "    \n",
    "    if submodule is None:\n",
    "        raise ImportError(f\"Unknown systematics type: {systematics_type}\")\n",
    "    \n",
    "    # Construct the full module path\n",
    "    module_path = f\"{base_module}.{submodule}\"\n",
    "    \n",
    "    try:\n",
    "        # Dynamically import the module\n",
    "        module = importlib.import_module(module_path)\n",
    "        # Get the class from the module\n",
    "        factory_class = getattr(module, systematics_type)\n",
    "        # copy the systematics dictionary\n",
    "        systematics_yaml = probe_systematics.copy()\n",
    "        # remove the type key\n",
    "        del systematics_yaml['type']\n",
    "        # instantiate the factory\n",
    "        factory = base_model_from_yaml(factory_class, yaml.dump(systematics_yaml))\n",
    "        return factory\n",
    "    except ImportError as e:\n",
    "        raise ImportError(f\"Could not import module {module_path}: {e}\")\n",
    "    except AttributeError as e:\n",
    "        raise AttributeError(f\"Class '{systematics_type}' not found in module {module_path}: {e}\")"
   ]
  },
  {
   "cell_type": "code",
   "execution_count": 179,
   "metadata": {},
   "outputs": [],
   "source": [
    "for p in probes:\n",
    "    probes[p]['loaded_systematics'] = load_systematics_factory(probes[p]['systematics'])\n",
    "    "
   ]
  },
  {
   "cell_type": "code",
   "execution_count": 181,
   "metadata": {},
   "outputs": [],
   "source": [
    "#FIXME: We have to implement this in the yaml\n",
    "ells = np.unique(np.geomspace(2, 2000, 128).astype(int))"
   ]
  },
  {
   "cell_type": "code",
   "execution_count": 175,
   "metadata": {},
   "outputs": [
    {
     "data": {
      "text/plain": [
       "{'source': {'function': 'TwoPointHarmonic',\n",
       "  'nz_type': 'LSST_Y1_SOURCE_BIN_COLLECTION',\n",
       "  'systematics': {'type': 'WeakLensingFactory',\n",
       "   'per_bin_systematics': [{'type': 'MultiplicativeShearBiasFactory'},\n",
       "    {'type': 'PhotoZShiftFactory'}],\n",
       "   'global_systematics': [{'type': 'LinearAlignmentSystematicFactory',\n",
       "     'alphag': 1.0}]}},\n",
       " 'lens': {'function': 'TwoPointHarmonic',\n",
       "  'nz_type': 'LSST_Y1_LENS_BIN_COLLECTION',\n",
       "  'systematics': {'type': 'NumberCountsFactory',\n",
       "   'per_bin_systematics': [{'type': 'PhotoZShiftFactory'}],\n",
       "   'global_systematics': [],\n",
       "   'loaded_factory': NumberCountsFactory(per_bin_systematics=[PhotoZShiftFactory(type='PhotoZShiftFactory')], global_systematics=[], include_rsd=False)}}}"
      ]
     },
     "execution_count": 175,
     "metadata": {},
     "output_type": "execute_result"
    }
   ],
   "source": [
    "probes"
   ]
  },
  {
   "cell_type": "code",
   "execution_count": 146,
   "metadata": {},
   "outputs": [
    {
     "data": {
      "text/plain": [
       "{'per_bin_systematics': [{'type': 'PhotoZShiftFactory'}],\n",
       " 'global_systematics': []}"
      ]
     },
     "execution_count": 146,
     "metadata": {},
     "output_type": "execute_result"
    }
   ],
   "source": [
    "test_syst_yaml"
   ]
  },
  {
   "cell_type": "code",
   "execution_count": 168,
   "metadata": {},
   "outputs": [
    {
     "data": {
      "text/plain": [
       "dict"
      ]
     },
     "execution_count": 168,
     "metadata": {},
     "output_type": "execute_result"
    }
   ],
   "source": [
    "type(probes[p]['systematics'])"
   ]
  },
  {
   "cell_type": "code",
   "execution_count": null,
   "metadata": {},
   "outputs": [],
   "source": []
  }
 ],
 "metadata": {
  "kernelspec": {
   "display_name": "desc_forecast",
   "language": "python",
   "name": "python3"
  },
  "language_info": {
   "codemirror_mode": {
    "name": "ipython",
    "version": 3
   },
   "file_extension": ".py",
   "mimetype": "text/x-python",
   "name": "python",
   "nbconvert_exporter": "python",
   "pygments_lexer": "ipython3",
   "version": "3.12.4"
  }
 },
 "nbformat": 4,
 "nbformat_minor": 2
}
